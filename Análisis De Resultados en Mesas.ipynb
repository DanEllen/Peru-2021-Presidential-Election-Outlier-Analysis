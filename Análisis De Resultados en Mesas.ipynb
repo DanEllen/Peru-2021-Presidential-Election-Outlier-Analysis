{
 "cells": [
  {
   "cell_type": "markdown",
   "id": "1fc37dc4",
   "metadata": {},
   "source": [
    "# Proyecto Veritas"
   ]
  },
  {
   "cell_type": "markdown",
   "id": "52731678",
   "metadata": {},
   "source": [
    "Objetivo: analizar de forma objetiva los resultados en las mesas de votacion en las elecciones presidenciales 2021 de Peru para determinar si hay irregularidades estadisticas y que pueden significar. Se esta utilizando la data descargada desde la pagina oficial de la ONPE ( https://www.datosabiertos.gob.pe/dataset/resultados-por-mesa-de-las-elecciones-presidenciales-2021-segunda-vuelta-oficina-nacional-de )."
   ]
  },
  {
   "cell_type": "markdown",
   "id": "542f794e",
   "metadata": {},
   "source": [
    "## Importando Librerias y Cargando Dataset"
   ]
  },
  {
   "cell_type": "code",
   "execution_count": 42,
   "id": "b3eed532",
   "metadata": {
    "ExecuteTime": {
     "end_time": "2021-06-19T17:13:31.644184Z",
     "start_time": "2021-06-19T17:13:31.629224Z"
    }
   },
   "outputs": [],
   "source": [
    "import numpy as np \n",
    "import pandas as pd\n",
    "import scipy\n",
    "import math\n",
    "from datetime import datetime\n",
    "import matplotlib.pyplot as plt\n",
    "from matplotlib.offsetbox import AnchoredText\n",
    "import seaborn as sns\n",
    "import plotly.graph_objects as go\n",
    "\n",
    "plt.style.use(\"default\")\n",
    "sns.set_style('whitegrid')\n",
    "%matplotlib inline\n",
    "\n",
    "pd.set_option('display.float', '{:.5f}'.format)\n",
    "pd.set_option('display.max_columns', 100)\n",
    "pd.set_option('display.max_rows', 300)"
   ]
  },
  {
   "cell_type": "code",
   "execution_count": 2,
   "id": "4d93904d",
   "metadata": {
    "ExecuteTime": {
     "end_time": "2021-06-19T16:58:02.770382Z",
     "start_time": "2021-06-19T16:58:02.629327Z"
    }
   },
   "outputs": [],
   "source": [
    "data = pd.read_csv(\"Resultados_2da_vuelta_Version_PCM.csv\", sep = ';', index_col=False, encoding='latin1')"
   ]
  },
  {
   "cell_type": "code",
   "execution_count": 3,
   "id": "34bf19e6",
   "metadata": {
    "ExecuteTime": {
     "end_time": "2021-06-19T16:58:02.801185Z",
     "start_time": "2021-06-19T16:58:02.772326Z"
    },
    "scrolled": true
   },
   "outputs": [
    {
     "data": {
      "text/html": [
       "<div>\n",
       "<style scoped>\n",
       "    .dataframe tbody tr th:only-of-type {\n",
       "        vertical-align: middle;\n",
       "    }\n",
       "\n",
       "    .dataframe tbody tr th {\n",
       "        vertical-align: top;\n",
       "    }\n",
       "\n",
       "    .dataframe thead th {\n",
       "        text-align: right;\n",
       "    }\n",
       "</style>\n",
       "<table border=\"1\" class=\"dataframe\">\n",
       "  <thead>\n",
       "    <tr style=\"text-align: right;\">\n",
       "      <th></th>\n",
       "      <th>UBIGEO</th>\n",
       "      <th>DEPARTAMENTO</th>\n",
       "      <th>PROVINCIA</th>\n",
       "      <th>DISTRITO</th>\n",
       "      <th>TIPO_ELECCION</th>\n",
       "      <th>MESA_DE_VOTACION</th>\n",
       "      <th>DESCRIP_ESTADO_ACTA</th>\n",
       "      <th>TIPO_OBSERVACION</th>\n",
       "      <th>N_CVAS</th>\n",
       "      <th>N_ELEC_HABIL</th>\n",
       "      <th>VOTOS_P1</th>\n",
       "      <th>VOTOS_P2</th>\n",
       "      <th>VOTOS_VB</th>\n",
       "      <th>VOTOS_VN</th>\n",
       "      <th>VOTOS_VI</th>\n",
       "    </tr>\n",
       "  </thead>\n",
       "  <tbody>\n",
       "    <tr>\n",
       "      <th>54608</th>\n",
       "      <td>30214</td>\n",
       "      <td>APURIMAC</td>\n",
       "      <td>AYMARAES</td>\n",
       "      <td>TORAYA</td>\n",
       "      <td>PRESIDENCIAL</td>\n",
       "      <td>4096</td>\n",
       "      <td>CONTABILIZADA</td>\n",
       "      <td>NaN</td>\n",
       "      <td>189.00000</td>\n",
       "      <td>298</td>\n",
       "      <td>118.00000</td>\n",
       "      <td>52.00000</td>\n",
       "      <td>2.00000</td>\n",
       "      <td>17.00000</td>\n",
       "      <td>NaN</td>\n",
       "    </tr>\n",
       "    <tr>\n",
       "      <th>59706</th>\n",
       "      <td>20813</td>\n",
       "      <td>ANCASH</td>\n",
       "      <td>HUARI</td>\n",
       "      <td>SAN MARCOS</td>\n",
       "      <td>PRESIDENCIAL</td>\n",
       "      <td>1979</td>\n",
       "      <td>CONTABILIZADA</td>\n",
       "      <td>NaN</td>\n",
       "      <td>227.00000</td>\n",
       "      <td>300</td>\n",
       "      <td>165.00000</td>\n",
       "      <td>47.00000</td>\n",
       "      <td>2.00000</td>\n",
       "      <td>13.00000</td>\n",
       "      <td>NaN</td>\n",
       "    </tr>\n",
       "  </tbody>\n",
       "</table>\n",
       "</div>"
      ],
      "text/plain": [
       "       UBIGEO DEPARTAMENTO PROVINCIA    DISTRITO TIPO_ELECCION  \\\n",
       "54608   30214     APURIMAC  AYMARAES      TORAYA  PRESIDENCIAL   \n",
       "59706   20813       ANCASH     HUARI  SAN MARCOS  PRESIDENCIAL   \n",
       "\n",
       "       MESA_DE_VOTACION DESCRIP_ESTADO_ACTA  TIPO_OBSERVACION    N_CVAS  \\\n",
       "54608              4096       CONTABILIZADA               NaN 189.00000   \n",
       "59706              1979       CONTABILIZADA               NaN 227.00000   \n",
       "\n",
       "       N_ELEC_HABIL  VOTOS_P1  VOTOS_P2  VOTOS_VB  VOTOS_VN  VOTOS_VI  \n",
       "54608           298 118.00000  52.00000   2.00000  17.00000       NaN  \n",
       "59706           300 165.00000  47.00000   2.00000  13.00000       NaN  "
      ]
     },
     "execution_count": 3,
     "metadata": {},
     "output_type": "execute_result"
    }
   ],
   "source": [
    "data.sample(2)"
   ]
  },
  {
   "cell_type": "code",
   "execution_count": 4,
   "id": "2e291b09",
   "metadata": {
    "ExecuteTime": {
     "end_time": "2021-06-19T16:58:02.816354Z",
     "start_time": "2021-06-19T16:58:02.803154Z"
    }
   },
   "outputs": [],
   "source": [
    "data = data.rename(columns={'VOTOS_P1': 'PL', 'VOTOS_P2': 'FP'})"
   ]
  },
  {
   "cell_type": "markdown",
   "id": "0d39285a",
   "metadata": {},
   "source": [
    "## Analisis"
   ]
  },
  {
   "cell_type": "markdown",
   "id": "4a413894",
   "metadata": {},
   "source": [
    "La metodologia utilizada va a ser de calcular si una muestra pertenece a una poblacion y luego graficar la distribucion que obtenemos sobrepuesta sobre la distribucion esperada para ver si hay desviaciones significativas. En este caso la muestra va a ser la mesa de votacion y la poblacion el distrito."
   ]
  },
  {
   "cell_type": "code",
   "execution_count": 5,
   "id": "e2b19532",
   "metadata": {
    "ExecuteTime": {
     "end_time": "2021-06-19T16:58:02.832368Z",
     "start_time": "2021-06-19T16:58:02.817286Z"
    }
   },
   "outputs": [
    {
     "data": {
      "text/plain": [
       "(86488, 15)"
      ]
     },
     "execution_count": 5,
     "metadata": {},
     "output_type": "execute_result"
    }
   ],
   "source": [
    "data.shape"
   ]
  },
  {
   "cell_type": "markdown",
   "id": "c84558ef",
   "metadata": {},
   "source": [
    "Remplazando celdas vacias de votos por 0"
   ]
  },
  {
   "cell_type": "code",
   "execution_count": 7,
   "id": "157f6b4a",
   "metadata": {
    "ExecuteTime": {
     "end_time": "2021-06-19T16:58:02.863392Z",
     "start_time": "2021-06-19T16:58:02.849707Z"
    }
   },
   "outputs": [],
   "source": [
    "data[\"PL\"].fillna(0, inplace = True)\n",
    "data[\"FP\"].fillna(0, inplace = True)"
   ]
  },
  {
   "cell_type": "markdown",
   "id": "3408fd6d",
   "metadata": {},
   "source": [
    "Calculando la cantidad de votos validos emitidos para cualquier partido y la porporcion de estos que fueron para FP en cada mesa."
   ]
  },
  {
   "cell_type": "code",
   "execution_count": 8,
   "id": "203cdf65",
   "metadata": {
    "ExecuteTime": {
     "end_time": "2021-06-19T16:58:02.878374Z",
     "start_time": "2021-06-19T16:58:02.865387Z"
    }
   },
   "outputs": [],
   "source": [
    "data['VOTOS'] = (data['FP']+data['PL'])"
   ]
  },
  {
   "cell_type": "markdown",
   "id": "bbeb826c",
   "metadata": {},
   "source": [
    "Eliminando filas con total de votos en 0"
   ]
  },
  {
   "cell_type": "code",
   "execution_count": 9,
   "id": "56031a85",
   "metadata": {
    "ExecuteTime": {
     "end_time": "2021-06-19T16:58:02.909878Z",
     "start_time": "2021-06-19T16:58:02.880351Z"
    }
   },
   "outputs": [
    {
     "data": {
      "text/plain": [
       "(86254, 16)"
      ]
     },
     "execution_count": 9,
     "metadata": {},
     "output_type": "execute_result"
    }
   ],
   "source": [
    "data = data[data.VOTOS != 0]\n",
    "data.shape"
   ]
  },
  {
   "cell_type": "code",
   "execution_count": 10,
   "id": "02171083",
   "metadata": {
    "ExecuteTime": {
     "end_time": "2021-06-19T16:58:02.940583Z",
     "start_time": "2021-06-19T16:58:02.911873Z"
    }
   },
   "outputs": [],
   "source": [
    "data['RESULTADO'] = (data['FP'])/(data['FP']+data['PL'])"
   ]
  },
  {
   "cell_type": "code",
   "execution_count": 11,
   "id": "94dc8374",
   "metadata": {
    "ExecuteTime": {
     "end_time": "2021-06-19T16:58:02.972631Z",
     "start_time": "2021-06-19T16:58:02.942575Z"
    }
   },
   "outputs": [],
   "source": [
    "data['DISTRITO_2'] = data['DEPARTAMENTO']+data['PROVINCIA']+data['DISTRITO']"
   ]
  },
  {
   "cell_type": "code",
   "execution_count": 12,
   "id": "6300aa70",
   "metadata": {
    "ExecuteTime": {
     "end_time": "2021-06-19T16:58:02.988478Z",
     "start_time": "2021-06-19T16:58:02.973675Z"
    }
   },
   "outputs": [],
   "source": [
    "data['DISTRITO_2'] = data['DISTRITO_2'].astype('str')"
   ]
  },
  {
   "cell_type": "markdown",
   "id": "58101cca",
   "metadata": {},
   "source": [
    "Eliminando distritos donde solo hay una mesa en ese distrito porque no se puede hacer el analisis."
   ]
  },
  {
   "cell_type": "code",
   "execution_count": 13,
   "id": "07e4567a",
   "metadata": {
    "ExecuteTime": {
     "end_time": "2021-06-19T16:58:03.145431Z",
     "start_time": "2021-06-19T16:58:02.990472Z"
    }
   },
   "outputs": [
    {
     "data": {
      "text/plain": [
       "(86172, 18)"
      ]
     },
     "execution_count": 13,
     "metadata": {},
     "output_type": "execute_result"
    }
   ],
   "source": [
    "data = data.groupby('DISTRITO_2').filter(lambda x : len(x)>1)\n",
    "data.shape"
   ]
  },
  {
   "cell_type": "code",
   "execution_count": 14,
   "id": "869e0188",
   "metadata": {
    "ExecuteTime": {
     "end_time": "2021-06-19T16:58:03.175752Z",
     "start_time": "2021-06-19T16:58:03.147425Z"
    }
   },
   "outputs": [
    {
     "data": {
      "text/html": [
       "<div>\n",
       "<style scoped>\n",
       "    .dataframe tbody tr th:only-of-type {\n",
       "        vertical-align: middle;\n",
       "    }\n",
       "\n",
       "    .dataframe tbody tr th {\n",
       "        vertical-align: top;\n",
       "    }\n",
       "\n",
       "    .dataframe thead th {\n",
       "        text-align: right;\n",
       "    }\n",
       "</style>\n",
       "<table border=\"1\" class=\"dataframe\">\n",
       "  <thead>\n",
       "    <tr style=\"text-align: right;\">\n",
       "      <th></th>\n",
       "      <th>DISTRITO</th>\n",
       "      <th>CANTIDAD</th>\n",
       "    </tr>\n",
       "  </thead>\n",
       "  <tbody>\n",
       "    <tr>\n",
       "      <th>1243</th>\n",
       "      <td>TACNAJORGE BASADRELOCUMBA</td>\n",
       "      <td>8</td>\n",
       "    </tr>\n",
       "  </tbody>\n",
       "</table>\n",
       "</div>"
      ],
      "text/plain": [
       "                       DISTRITO  CANTIDAD\n",
       "1243  TACNAJORGE BASADRELOCUMBA         8"
      ]
     },
     "execution_count": 14,
     "metadata": {},
     "output_type": "execute_result"
    }
   ],
   "source": [
    "distritos = data['DISTRITO_2'].value_counts().reset_index()\n",
    "distritos.columns = ['DISTRITO','CANTIDAD']\n",
    "distritos.sample(1)"
   ]
  },
  {
   "cell_type": "markdown",
   "id": "7c1bfc1c",
   "metadata": {},
   "source": [
    "Formula para calcular la desviacion estandar y promedio del distrito ponderado por la cantidad de votos validos de la mesa."
   ]
  },
  {
   "cell_type": "code",
   "execution_count": 15,
   "id": "eea5182c",
   "metadata": {
    "ExecuteTime": {
     "end_time": "2021-06-19T16:58:03.190826Z",
     "start_time": "2021-06-19T16:58:03.176751Z"
    }
   },
   "outputs": [],
   "source": [
    "def weighted_avg_and_std(values, weights):\n",
    "    \"\"\"\n",
    "    Return the weighted average and standard deviation.\n",
    "\n",
    "    values, weights -- Numpy ndarrays with the same shape.\n",
    "    \"\"\"\n",
    "    average = np.average(values, weights=weights)\n",
    "    # Fast and numerically precise:\n",
    "    variance = np.average((values-average)**2, weights=weights)\n",
    "    return (average, math.sqrt(variance))"
   ]
  },
  {
   "cell_type": "code",
   "execution_count": 26,
   "id": "7884c478",
   "metadata": {
    "ExecuteTime": {
     "end_time": "2021-06-19T17:07:56.222712Z",
     "start_time": "2021-06-19T17:07:40.845870Z"
    }
   },
   "outputs": [],
   "source": [
    "data2 = []\n",
    "for distrito in distritos.DISTRITO:\n",
    "    df = data[data['DISTRITO_2']==distrito].copy()\n",
    "    df['PROM_DIST'] = weighted_avg_and_std(df['RESULTADO'],df['VOTOS'])[0]\n",
    "    df['STD_DIST'] = weighted_avg_and_std(df['RESULTADO'],df['VOTOS'])[1]\n",
    "    df['VALOR_Z'] = (df['RESULTADO'] - df['PROM_DIST'])/df['STD_DIST']\n",
    "    df['VALOR_P'] = scipy.stats.norm.sf(abs(df['VALOR_Z']))*2  \n",
    "    data2.append(df)\n",
    "    \n",
    "data2 = pd.concat(data2)"
   ]
  },
  {
   "cell_type": "code",
   "execution_count": 98,
   "id": "6e0fa74e",
   "metadata": {
    "ExecuteTime": {
     "end_time": "2021-06-20T13:54:22.841577Z",
     "start_time": "2021-06-20T13:54:22.808233Z"
    }
   },
   "outputs": [
    {
     "name": "stdout",
     "output_type": "stream",
     "text": [
      "Las mesas con un valor p menor a  0.01  fueron 1149\n",
      "con 86172 mesas en total se esperaria que hubieran sido  862\n",
      "Fuerza Popular tuvo 29916 votos mas\n",
      "\n",
      "Las mesas con un valor p menor a  0.001  fueron 290\n",
      "con 86172 mesas en total se esperaria que hubieran sido  86\n",
      "Fuerza Popular tuvo 644 votos mas\n",
      "\n",
      "Las mesas con un valor p menor a  0.0001  fueron 119\n",
      "con 86172 mesas en total se esperaria que hubieran sido  9\n",
      "Peru Libre tuvo 2745 votos mas\n",
      "\n"
     ]
    }
   ],
   "source": [
    "values = [0.01,0.001,0.0001]\n",
    "\n",
    "data.shape[0]\n",
    "\n",
    "for value in values:\n",
    "\n",
    "    mesas_menor = data2[data2['VALOR_P']<value]\n",
    "    print('Las mesas con un valor p menor a ',str(value),' fueron',str(mesas_menor['VALOR_P'].count()))\n",
    "    print('con', str(data.shape[0]), 'mesas en total se esperaria que hubieran sido ',\n",
    "          str(round(data.shape[0]*value)))\n",
    "    if mesas_menor['FP'].sum() > mesas_menor['PL'].sum():\n",
    "        print(\"Fuerza Popular tuvo\", str(round(mesas_menor['FP'].sum()-mesas_menor['PL'].sum())),'votos mas\\n')\n",
    "    else:\n",
    "        print(\"Peru Libre tuvo\", str(round(mesas_menor['PL'].sum()-mesas_menor['FP'].sum())),'votos mas\\n')"
   ]
  },
  {
   "cell_type": "code",
   "execution_count": 114,
   "id": "5b084ad9",
   "metadata": {
    "ExecuteTime": {
     "end_time": "2021-06-20T14:07:36.083522Z",
     "start_time": "2021-06-20T14:07:35.199718Z"
    }
   },
   "outputs": [
    {
     "data": {
      "image/png": "[encoded data removed]",
      "text/plain": [
       "<Figure size 432x288 with 1 Axes>"
      ]
     },
     "metadata": {
      "needs_background": "light"
     },
     "output_type": "display_data"
    }
   ],
   "source": [
    "ax = sns.kdeplot(data2['VALOR_Z'], shade='fill')\n",
    "ax.set(xlabel='Desviaciones Estandar de la Mesa')\n",
    "\n",
    "plt.show()"
   ]
  }
 ],
 "metadata": {
  "kernelspec": {
   "display_name": "Python 3",
   "language": "python",
   "name": "python3"
  },
  "language_info": {
   "codemirror_mode": {
    "name": "ipython",
    "version": 3
   },
   "file_extension": ".py",
   "mimetype": "text/x-python",
   "name": "python",
   "nbconvert_exporter": "python",
   "pygments_lexer": "ipython3",
   "version": "3.8.8"
  },
  "toc": {
   "base_numbering": 1,
   "nav_menu": {},
   "number_sections": true,
   "sideBar": true,
   "skip_h1_title": false,
   "title_cell": "Table of Contents",
   "title_sidebar": "Contents",
   "toc_cell": false,
   "toc_position": {},
   "toc_section_display": true,
   "toc_window_display": false
  }
 },
 "nbformat": 4,
 "nbformat_minor": 5
}
